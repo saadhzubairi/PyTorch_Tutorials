{
 "cells": [
  {
   "cell_type": "markdown",
   "metadata": {},
   "source": [
    "\n",
    "#### Basic Neural Network, first:\n",
    "\n",
    "0: Importing the libraries  <br>\n",
    "1: Fully connected Network <br>\n",
    "2: device <br>\n",
    "3: hyperparameters <br>\n",
    "\n",
    "#### Then\n",
    "4: Load Data <br>\n",
    "5: Initialize model/network <br>\n",
    "6: configure loss and optimizer <br>\n",
    "7: Training loop <br>\n",
    "8: Test <br>\n"
   ]
  },
  {
   "cell_type": "code",
   "execution_count": null,
   "metadata": {},
   "outputs": [],
   "source": [
    "# 0 Importing the libraries\n",
    "import torch\n",
    "import torch.nn as nn\n",
    "import torch.optim as optim\n",
    "import torch.nn.functional as F\n",
    "from torch.utils.data import DataLoader\n",
    "import torchvision.datasets as datasets\n",
    "import torchvision.transforms as transforms"
   ]
  },
  {
   "cell_type": "code",
   "execution_count": null,
   "metadata": {},
   "outputs": [],
   "source": [
    "# 1 Creating a Fully Connected Network\n",
    "class BasicNeuralNetwork(nn.Module):\n",
    "    def __init__(self, input_size, num_classes): #input size will be 28*28=784, num_classes will be 10 for mnist\n",
    "        super(BasicNeuralNetwork, self).__init__() # calls the init method of the parent class (nn.Module), we run the init of that method.\n",
    "        #for a small network, we can do two laters:\n",
    "        self.l1 = nn.Linear(input_size,50) #50 neurons in the first layer\n",
    "        self.l2 = nn.Linear(50 , num_classes) #num_classes neurons in the second layer\n",
    "\n",
    "    #define the forward method that will be used to pass the data through the network\n",
    "    def forward(self, x):\n",
    "        x = F.relu(self.l1(x)) #relu activation function\n",
    "        x = self.l2(x)\n",
    "        return x"
   ]
  },
  {
   "cell_type": "code",
   "execution_count": null,
   "metadata": {},
   "outputs": [
    {
     "data": {
      "text/plain": [
       "torch.Size([64, 10])\n"
      ]
     },
     "metadata": {},
     "output_type": "display_data"
    }
   ],
   "source": [
    "# testing:\n",
    "\n",
    "model = BasicNeuralNetwork(784, 10)\n",
    "x = torch.randn(64, 784)\n",
    "print(model(x).shape)"
   ]
  },
  {
   "cell_type": "code",
   "execution_count": null,
   "metadata": {},
   "outputs": [],
   "source": [
    "# 2 Set device\n",
    "device = torch.device('cuda' if torch.cuda.is_available() else 'cpu')"
   ]
  },
  {
   "cell_type": "code",
   "execution_count": null,
   "metadata": {},
   "outputs": [],
   "source": [
    "# hyperparameters:\n",
    "input_size = 784\n",
    "num_classes = 10\n",
    "learning_rate = 0.001 #this means that we will update the weights by 0.001*gradient at each step of the optimization process (backpropagation)\n",
    "batch_size = 64\n",
    "num_epochs = 1 #one epoch is when the entire dataset is passed through the network once"
   ]
  },
  {
   "cell_type": "code",
   "execution_count": null,
   "metadata": {},
   "outputs": [
    {
     "data": {
      "text/plain": [
       "Downloading http://yann.lecun.com/exdb/mnist/train-images-idx3-ubyte.gz\n",
       "Failed to download (trying next):\n",
       "HTTP Error 404: Not Found\n",
       "\n",
       "Downloading https://ossci-datasets.s3.amazonaws.com/mnist/train-images-idx3-ubyte.gz\n",
       "Downloading https://ossci-datasets.s3.amazonaws.com/mnist/train-images-idx3-ubyte.gz to dataset/MNIST\\raw\\train-images-idx3-ubyte.gz\n",
       "Extracting dataset/MNIST\\raw\\train-images-idx3-ubyte.gz to dataset/MNIST\\raw\n",
       "\n",
       "Downloading http://yann.lecun.com/exdb/mnist/train-labels-idx1-ubyte.gz\n",
       "Failed to download (trying next):\n",
       "HTTP Error 404: Not Found\n",
       "\n",
       "Downloading https://ossci-datasets.s3.amazonaws.com/mnist/train-labels-idx1-ubyte.gz\n",
       "Downloading https://ossci-datasets.s3.amazonaws.com/mnist/train-labels-idx1-ubyte.gz to dataset/MNIST\\raw\\train-labels-idx1-ubyte.gz\n",
       "Extracting dataset/MNIST\\raw\\train-labels-idx1-ubyte.gz to dataset/MNIST\\raw\n",
       "\n",
       "Downloading http://yann.lecun.com/exdb/mnist/t10k-images-idx3-ubyte.gz\n",
       "Failed to download (trying next):\n",
       "HTTP Error 404: Not Found\n",
       "\n",
       "Downloading https://ossci-datasets.s3.amazonaws.com/mnist/t10k-images-idx3-ubyte.gz\n",
       "Downloading https://ossci-datasets.s3.amazonaws.com/mnist/t10k-images-idx3-ubyte.gz to dataset/MNIST\\raw\\t10k-images-idx3-ubyte.gz\n",
       "Extracting dataset/MNIST\\raw\\t10k-images-idx3-ubyte.gz to dataset/MNIST\\raw\n",
       "\n",
       "Downloading http://yann.lecun.com/exdb/mnist/t10k-labels-idx1-ubyte.gz\n",
       "Failed to download (trying next):\n",
       "HTTP Error 404: Not Found\n",
       "\n",
       "Downloading https://ossci-datasets.s3.amazonaws.com/mnist/t10k-labels-idx1-ubyte.gz\n",
       "Downloading https://ossci-datasets.s3.amazonaws.com/mnist/t10k-labels-idx1-ubyte.gz to dataset/MNIST\\raw\\t10k-labels-idx1-ubyte.gz\n",
       "Extracting dataset/MNIST\\raw\\t10k-labels-idx1-ubyte.gz to dataset/MNIST\\raw\n",
       "\n"
      ]
     },
     "metadata": {},
     "output_type": "display_data"
    }
   ],
   "source": [
    "# 3 Load Data\n",
    "train_dataset = datasets.MNIST(root='dataset/', train=True, transform=transforms.ToTensor(), download=True)\n",
    "train_loader = DataLoader(dataset=train_dataset, batch_size=batch_size, shuffle=True)\n",
    "test_dataset = datasets.MNIST(root='dataset/', train=False, transform=transforms.ToTensor(), download=True)\n",
    "test_loader = DataLoader(dataset=test_dataset, batch_size=batch_size, shuffle=True)"
   ]
  },
  {
   "cell_type": "code",
   "execution_count": null,
   "metadata": {},
   "outputs": [],
   "source": [
    "# 4 Initialize network\n",
    "model = BasicNeuralNetwork(\n",
    "    input_size=input_size, \n",
    "    num_classes=num_classes).to(device)"
   ]
  },
  {
   "cell_type": "code",
   "execution_count": null,
   "metadata": {},
   "outputs": [],
   "source": [
    "# 5 Loss and optimizer\n",
    "criterion = nn.CrossEntropyLoss()\n",
    "optimizer = optim.Adam(model.parameters(), lr=learning_rate)\n"
   ]
  },
  {
   "cell_type": "code",
   "execution_count": null,
   "metadata": {},
   "outputs": [],
   "source": [
    "# 6 Train Network\n",
    "for epoch in range(num_epochs):\n",
    "    for batch_index, (data,targets) in enumerate(train_loader): #enumerate gives us the index of the batch, and the data and targets. data is the images, targets are the labels\n",
    "        # make the data to the device\n",
    "        data = data.to(device=device)\n",
    "        targets = targets.to(device=device)\n",
    "        # Flatten the data\n",
    "        data = data.reshape(data.shape[0],-1)\n",
    "        \n",
    "        # now for forward pass:\n",
    "        scores = model(data) #pass the data through the model\n",
    "        loss = criterion(scores, targets) #calculate the loss\n",
    "        \n",
    "        #backward pass:\n",
    "        optimizer.zero_grad() #set the gradients to zero before calculating the gradients\n",
    "        loss.backward() #calculate the gradients\n",
    "        optimizer.step() #update the weights (gradient descent step)\n",
    "        "
   ]
  },
  {
   "cell_type": "code",
   "execution_count": null,
   "metadata": {},
   "outputs": [
    {
     "data": {
      "text/plain": [
       "Checking accuracy on training data\n",
       "Got 56148 / 60000 with accuracy 93.58\n",
       "Checking accuracy on test data\n",
       "Got 9359 / 10000 with accuracy 93.59\n"
      ]
     },
     "metadata": {},
     "output_type": "display_data"
    }
   ],
   "source": [
    "# 7 Check accuracy on training & test to see how good our model is\n",
    "\n",
    "def check_accuracy(loader, model):\n",
    "    if(loader.dataset.train):\n",
    "        print('Checking accuracy on training data')\n",
    "    else:\n",
    "        print('Checking accuracy on test data')\n",
    "    num_correct = 0\n",
    "    num_samples = 0\n",
    "    model.eval() #tells pytorch that we are in evaluation mode\n",
    "    \n",
    "    with torch.no_grad(): #we don't need to calculate the gradients when we are evaluating the model\n",
    "        for x,y in loader:\n",
    "            x= x.to(device=device)\n",
    "            y = y.to(device=device)\n",
    "            x = x.reshape(x.shape[0], -1)\n",
    "\n",
    "            scores = model(x) # pass the data through the model\n",
    "            _, predictions = scores.max(1) #get the index of the max value, which in this case is the predicted class label (0-9), that has the highest score\n",
    "            num_correct += (predictions == y).sum() #sum the number of correct predictions\n",
    "            num_samples += predictions.size(0) #total number of samples, which is the batch size\n",
    "        \n",
    "        print(f'Got {num_correct} / {num_samples} with accuracy {float(num_correct)/float(num_samples)*100:.2f}')\n",
    "    \n",
    "    \n",
    "    model.train() #put the model back to training mode\n",
    "    \n",
    "check_accuracy(train_loader, model)\n",
    "check_accuracy(test_loader, model)\n",
    "        "
   ]
  }
 ],
 "metadata": {
  "language_info": {
   "name": "python"
  }
 },
 "nbformat": 4,
 "nbformat_minor": 2
}
