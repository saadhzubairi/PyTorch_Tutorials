{
 "cells": [
  {
   "cell_type": "markdown",
   "metadata": {},
   "source": [
    "Similar to the basic one, works better than fully connected NNs and better for images too."
   ]
  },
  {
   "cell_type": "code",
   "execution_count": 1,
   "metadata": {},
   "outputs": [],
   "source": [
    "# 0 Importing the libraries\n",
    "import torch\n",
    "import torch.nn as nn\n",
    "import torch.optim as optim\n",
    "import torch.nn.functional as F\n",
    "from torch.utils.data import DataLoader\n",
    "import torchvision.datasets as datasets\n",
    "import torchvision.transforms as transforms"
   ]
  },
  {
   "cell_type": "markdown",
   "metadata": {},
   "source": [
    "For this, we have a few key stuff to worry about. \n",
    "\n",
    "$$\n",
    "n_{out} = \\left\\lfloor \\frac{n_{in} + 2p - k}{s} \\right\\rfloor + 1\n",
    "$$\n",
    "\n",
    "\\begin{align*}\n",
    "n_{in} &: \\text{ number of input features} \\\\\n",
    "n_{out} &: \\text{ number of output features} \\\\\n",
    "k &: \\text{ convolution kernel size} \\\\\n",
    "p &: \\text{ convolution padding size} \\\\\n",
    "s &: \\text{ convolution stride size} \n",
    "\\end{align*}"
   ]
  },
  {
   "cell_type": "markdown",
   "metadata": {},
   "source": [
    "\n",
    "`kernel_size=(3,3), stride=(1,1),padding=(1,1)`\n",
    "\n",
    "can ensure that $n_{out}$ will be equal to $n_{in}$"
   ]
  },
  {
   "cell_type": "code",
   "execution_count": 2,
   "metadata": {},
   "outputs": [],
   "source": [
    "# 1 Creating a Fully Connected Network\n",
    "\n",
    "## Simple one\n",
    "class BasicNeuralNetwork(nn.Module):\n",
    "    def __init__(self, input_size, num_classes): #input size will be 28*28=784, num_classes will be 10 for mnist\n",
    "        super(BasicNeuralNetwork, self).__init__() # calls the init method of the parent class (nn.Module), we run the init of that method.\n",
    "        #for a small network, we can do two laters:\n",
    "        self.l1 = nn.Linear(input_size,50) #50 neurons in the first layer\n",
    "        self.l2 = nn.Linear(50 , num_classes) #num_classes neurons in the second layer\n",
    "\n",
    "    #define the forward method that will be used to pass the data through the network\n",
    "    def forward(self, x):\n",
    "        x = F.relu(self.l1(x)) #relu activation function\n",
    "        x = self.l2(x)\n",
    "        return x\n",
    "\n",
    "## Convolutional Neural Network:\n",
    "class ConvolutionalNeuralNetwork(nn.Module):\n",
    "    def __init__(self, in_channels=1, num_classes=10):\n",
    "        super(ConvolutionalNeuralNetwork, self).__init__()\n",
    "        # now we create the layers:\n",
    "        self.conv1 = nn.Conv2d(in_channels=1, out_channels=8, kernel_size=(3,3), stride=(1,1),padding=(1,1)) #padding is used to keep the size of the image the same\n",
    "        self.pool = nn.MaxPool2d(kernel_size=(2,2), stride=(2,2))  # pooling layer, which is used to reduce the size of the image (in this case it'll reduce it by half)\n",
    "        self.conv2 = nn.Conv2d(in_channels=8, out_channels=16, kernel_size=(3,3), stride=(1,1),padding=(1,1))\n",
    "        # and now a fully connected layer:\n",
    "        self.fc1 = nn.Linear(16*7*7, num_classes) # 7*7 is the size of the image after the pooling layer, because we have 2 pooling layers, the size is reduced by 2 in each dimension\n",
    "    \n",
    "    def forward(self, x):\n",
    "        x = F.relu(self.conv1(x)) # we pass the data through the first convolutional layer (size of the image is kept the same)\n",
    "        x = self.pool(x)        # we pass the data through the pooling layer (size is now size/2)\n",
    "        x = F.relu(self.conv2(x)) # now the data size is reduced by half, so we pass it through the second convolutional layer (size is kept the same)\n",
    "        x = self.pool(x) # we pass the data through the pooling layer, so the size is reduced by half again (now it's 7*7)\n",
    "        x = x.reshape(x.shape[0], -1) # we flatten the data to pass it through the fully connected layer\n",
    "        x = self.fc1(x) # we pass the data through the fully connected layer\n",
    "        return x\n",
    "        \n"
   ]
  },
  {
   "cell_type": "code",
   "execution_count": 3,
   "metadata": {},
   "outputs": [
    {
     "name": "stdout",
     "output_type": "stream",
     "text": [
      "torch.Size([64, 10])\n"
     ]
    }
   ],
   "source": [
    "# tesitng the cnn:\n",
    "x = torch.randn(64,1,28,28) # 64 images, 1 channel, 28*28 pixels\n",
    "model = ConvolutionalNeuralNetwork()\n",
    "print(model(x).shape)"
   ]
  },
  {
   "cell_type": "code",
   "execution_count": 4,
   "metadata": {},
   "outputs": [
    {
     "name": "stdout",
     "output_type": "stream",
     "text": [
      "torch.Size([64, 10])\n"
     ]
    }
   ],
   "source": [
    "# testing:\n",
    "\n",
    "model = BasicNeuralNetwork(784, 10)\n",
    "x = torch.randn(64, 784)\n",
    "print(model(x).shape)"
   ]
  },
  {
   "cell_type": "code",
   "execution_count": 5,
   "metadata": {},
   "outputs": [],
   "source": [
    "# 2 Set device\n",
    "device = torch.device('cuda' if torch.cuda.is_available() else 'cpu')"
   ]
  },
  {
   "cell_type": "code",
   "execution_count": 6,
   "metadata": {},
   "outputs": [],
   "source": [
    "# hyperparameters:\n",
    "input_size = 784\n",
    "num_classes = 10\n",
    "learning_rate = 0.001 #this means that we will update the weights by 0.001*gradient at each step of the optimization process (backpropagation)\n",
    "batch_size = 64\n",
    "num_epochs = 10 #one epoch is when the entire dataset is passed through the network once\n",
    "\n",
    "#for CNN:\n",
    "in_channels = 1"
   ]
  },
  {
   "cell_type": "code",
   "execution_count": 7,
   "metadata": {},
   "outputs": [
    {
     "name": "stdout",
     "output_type": "stream",
     "text": [
      "Downloading http://yann.lecun.com/exdb/mnist/train-images-idx3-ubyte.gz\n",
      "Failed to download (trying next):\n",
      "HTTP Error 404: Not Found\n",
      "\n",
      "Downloading https://ossci-datasets.s3.amazonaws.com/mnist/train-images-idx3-ubyte.gz\n",
      "Downloading https://ossci-datasets.s3.amazonaws.com/mnist/train-images-idx3-ubyte.gz to dataset/MNIST\\raw\\train-images-idx3-ubyte.gz\n"
     ]
    },
    {
     "name": "stderr",
     "output_type": "stream",
     "text": [
      "100%|██████████| 9.91M/9.91M [00:00<00:00, 17.2MB/s]\n"
     ]
    },
    {
     "name": "stdout",
     "output_type": "stream",
     "text": [
      "Extracting dataset/MNIST\\raw\\train-images-idx3-ubyte.gz to dataset/MNIST\\raw\n",
      "\n",
      "Downloading http://yann.lecun.com/exdb/mnist/train-labels-idx1-ubyte.gz\n",
      "Failed to download (trying next):\n",
      "HTTP Error 404: Not Found\n",
      "\n",
      "Downloading https://ossci-datasets.s3.amazonaws.com/mnist/train-labels-idx1-ubyte.gz\n",
      "Downloading https://ossci-datasets.s3.amazonaws.com/mnist/train-labels-idx1-ubyte.gz to dataset/MNIST\\raw\\train-labels-idx1-ubyte.gz\n"
     ]
    },
    {
     "name": "stderr",
     "output_type": "stream",
     "text": [
      "100%|██████████| 28.9k/28.9k [00:00<00:00, 2.25MB/s]"
     ]
    },
    {
     "name": "stdout",
     "output_type": "stream",
     "text": [
      "Extracting dataset/MNIST\\raw\\train-labels-idx1-ubyte.gz to dataset/MNIST\\raw\n",
      "\n",
      "Downloading http://yann.lecun.com/exdb/mnist/t10k-images-idx3-ubyte.gz\n",
      "Failed to download (trying next):\n",
      "HTTP Error 404: Not Found\n",
      "\n",
      "Downloading https://ossci-datasets.s3.amazonaws.com/mnist/t10k-images-idx3-ubyte.gz\n"
     ]
    },
    {
     "name": "stderr",
     "output_type": "stream",
     "text": [
      "\n"
     ]
    },
    {
     "name": "stdout",
     "output_type": "stream",
     "text": [
      "Downloading https://ossci-datasets.s3.amazonaws.com/mnist/t10k-images-idx3-ubyte.gz to dataset/MNIST\\raw\\t10k-images-idx3-ubyte.gz\n"
     ]
    },
    {
     "name": "stderr",
     "output_type": "stream",
     "text": [
      "100%|██████████| 1.65M/1.65M [00:00<00:00, 14.0MB/s]\n"
     ]
    },
    {
     "name": "stdout",
     "output_type": "stream",
     "text": [
      "Extracting dataset/MNIST\\raw\\t10k-images-idx3-ubyte.gz to dataset/MNIST\\raw\n",
      "\n",
      "Downloading http://yann.lecun.com/exdb/mnist/t10k-labels-idx1-ubyte.gz\n",
      "Failed to download (trying next):\n",
      "HTTP Error 404: Not Found\n",
      "\n",
      "Downloading https://ossci-datasets.s3.amazonaws.com/mnist/t10k-labels-idx1-ubyte.gz\n",
      "Downloading https://ossci-datasets.s3.amazonaws.com/mnist/t10k-labels-idx1-ubyte.gz to dataset/MNIST\\raw\\t10k-labels-idx1-ubyte.gz\n"
     ]
    },
    {
     "name": "stderr",
     "output_type": "stream",
     "text": [
      "100%|██████████| 4.54k/4.54k [00:00<?, ?B/s]"
     ]
    },
    {
     "name": "stdout",
     "output_type": "stream",
     "text": [
      "Extracting dataset/MNIST\\raw\\t10k-labels-idx1-ubyte.gz to dataset/MNIST\\raw\n",
      "\n"
     ]
    },
    {
     "name": "stderr",
     "output_type": "stream",
     "text": [
      "\n"
     ]
    }
   ],
   "source": [
    "# 3 Load Data\n",
    "train_dataset = datasets.MNIST(root='dataset/', train=True, transform=transforms.ToTensor(), download=True)\n",
    "train_loader = DataLoader(dataset=train_dataset, batch_size=batch_size, shuffle=True)\n",
    "test_dataset = datasets.MNIST(root='dataset/', train=False, transform=transforms.ToTensor(), download=True)\n",
    "test_loader = DataLoader(dataset=test_dataset, batch_size=batch_size, shuffle=True)"
   ]
  },
  {
   "cell_type": "code",
   "execution_count": 8,
   "metadata": {},
   "outputs": [],
   "source": [
    "# 4 Initialize network\n",
    "model = ConvolutionalNeuralNetwork().to(device)"
   ]
  },
  {
   "cell_type": "code",
   "execution_count": 9,
   "metadata": {},
   "outputs": [],
   "source": [
    "# 5 Loss and optimizer\n",
    "criterion = nn.CrossEntropyLoss()\n",
    "optimizer = optim.Adam(model.parameters(), lr=learning_rate)\n"
   ]
  },
  {
   "cell_type": "code",
   "execution_count": 11,
   "metadata": {},
   "outputs": [
    {
     "name": "stderr",
     "output_type": "stream",
     "text": [
      "Training Epochs: 100%|██████████| 10/10 [03:03<00:00, 18.40s/it]\n"
     ]
    }
   ],
   "source": [
    "# 6 Train Network\n",
    "\n",
    "from tqdm import tqdm\n",
    "\n",
    "for epoch in tqdm(range(num_epochs), desc=\"Training Epochs\"):\n",
    "    \"\"\" print(f\"Epoch: {epoch+1}/{num_epochs}\") \"\"\"\n",
    "    for batch_index, (data, targets) in enumerate(train_loader): #enumerate gives us the index of the batch, and the data and targets. data is the images, targets are the labels\n",
    "        # make the data to the device\n",
    "        data = data.to(device=device)\n",
    "        targets = targets.to(device=device)\n",
    "        # Flatten the data\n",
    "        \"\"\" data = data.reshape(data.shape[0],-1) \"\"\"\n",
    "        \"\"\" because we are using a CNN, we don't need to flatten the data, the data is already flattened by the last layer of the CNN \"\"\"\n",
    "        \n",
    "        # now for forward pass:\n",
    "        scores = model(data) #pass the data through the model\n",
    "        loss = criterion(scores, targets) #calculate the loss\n",
    "        \n",
    "        #backward pass:\n",
    "        optimizer.zero_grad() #set the gradients to zero before calculating the gradients\n",
    "        loss.backward() #calculate the gradients\n",
    "        optimizer.step() #update the weights (gradient descent step)\n",
    "        "
   ]
  },
  {
   "cell_type": "code",
   "execution_count": null,
   "metadata": {},
   "outputs": [
    {
     "name": "stdout",
     "output_type": "stream",
     "text": [
      "Checking accuracy on training data\n"
     ]
    },
    {
     "name": "stderr",
     "output_type": "stream",
     "text": [
      "Checking accuracy: 100%|██████████| 938/938 [00:08<00:00, 113.27it/s]\n"
     ]
    },
    {
     "name": "stdout",
     "output_type": "stream",
     "text": [
      "Got 59541 / 60000 with accuracy 99.23\n",
      "Checking accuracy on test data\n"
     ]
    },
    {
     "name": "stderr",
     "output_type": "stream",
     "text": [
      "Checking accuracy: 100%|██████████| 157/157 [00:01<00:00, 86.88it/s]"
     ]
    },
    {
     "name": "stdout",
     "output_type": "stream",
     "text": [
      "Got 9861 / 10000 with accuracy 98.61\n"
     ]
    },
    {
     "name": "stderr",
     "output_type": "stream",
     "text": [
      "\n"
     ]
    }
   ],
   "source": [
    "# 7 Check accuracy on training & test to see how good our model is\n",
    "\n",
    "def check_accuracy(loader, model):\n",
    "    if(loader.dataset.train):\n",
    "        print('Checking accuracy on training data')\n",
    "    else:\n",
    "        print('Checking accuracy on test data')\n",
    "    num_correct = 0\n",
    "    num_samples = 0\n",
    "    model.eval() #tells pytorch that we are in evaluation mode\n",
    "    \n",
    "    with torch.no_grad(): #we don't need to calculate the gradients when we are evaluating the model\n",
    "        for x, y in tqdm(loader, desc=\"Checking accuracy\"):\n",
    "            x= x.to(device=device)\n",
    "            y = y.to(device=device)\n",
    "            \"\"\" x = x.reshape(x.shape[0], -1) \"\"\"\n",
    "            \"\"\" same thing as before, we don't need to flatten the data \"\"\"\n",
    "\n",
    "            scores = model(x) # pass the data through the model\n",
    "            _, predictions = scores.max(1) #get the index of the max value, which in this case is the predicted class label (0-9), that has the highest score\n",
    "            num_correct += (predictions == y).sum() #sum the number of correct predictions\n",
    "            num_samples += predictions.size(0) #total number of samples, which is the batch size\n",
    "        \n",
    "        print(f'Got {num_correct} / {num_samples} with accuracy {float(num_correct)/float(num_samples)*100:.2f}')\n",
    "    \n",
    "    model.train() #put the model back to training mode\n",
    "    \n",
    "check_accuracy(train_loader, model)\n",
    "check_accuracy(test_loader, model)\n",
    "        "
   ]
  }
 ],
 "metadata": {
  "kernelspec": {
   "display_name": "Python 3",
   "language": "python",
   "name": "python3"
  },
  "language_info": {
   "codemirror_mode": {
    "name": "ipython",
    "version": 3
   },
   "file_extension": ".py",
   "mimetype": "text/x-python",
   "name": "python",
   "nbconvert_exporter": "python",
   "pygments_lexer": "ipython3",
   "version": "3.12.4"
  }
 },
 "nbformat": 4,
 "nbformat_minor": 2
}
